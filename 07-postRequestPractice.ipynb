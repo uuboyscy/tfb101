{
 "cells": [
  {
   "cell_type": "code",
   "execution_count": 2,
   "id": "hydraulic-serbia",
   "metadata": {},
   "outputs": [
    {
     "name": "stdout",
     "output_type": "stream",
     "text": [
      "\n",
      "    <!doctype html>\n",
      "    <title>Hello, World!</title>\n",
      "    <h1>Hello, your name is ?</h1>\n",
      "    <p></p>\n",
      "    <form action=\"/hello_post\" method=\"post\">\n",
      "    <label>Name:</label>\n",
      "    <input type=\"textbox\" name=\"username\">\n",
      "    <input type=\"submit\" value=\"Submit\">\n",
      "    </form>\n",
      "    \n",
      "    <h1>Hello v8zoyv8cxyzv0cxyv8zxcy0 !!</h1>\n",
      "    \n"
     ]
    }
   ],
   "source": [
    "import requests\n",
    "\n",
    "url = 'http://54d391e58060.ngrok.io/hello_post'\n",
    "\n",
    "headers = {\n",
    "    'User-Agent': 'yduvcxzpvhcuxizljhk'\n",
    "}\n",
    "\n",
    "data = {\n",
    "    'username': 'v8zoyv8cxyzv0cxyv8zxcy0'\n",
    "}\n",
    "\n",
    "res = requests.post(url, headers=headers, data=data)\n",
    "\n",
    "print(res.text)"
   ]
  },
  {
   "cell_type": "code",
   "execution_count": 4,
   "id": "addressed-indianapolis",
   "metadata": {},
   "outputs": [
    {
     "name": "stdout",
     "output_type": "stream",
     "text": [
      "{\n",
      "  \"args\": {}, \n",
      "  \"data\": \"\", \n",
      "  \"files\": {}, \n",
      "  \"form\": {\n",
      "    \"username\": \"v8zoyv8cxyzv0cxyv8zxcy0\"\n",
      "  }, \n",
      "  \"headers\": {\n",
      "    \"Accept\": \"*/*\", \n",
      "    \"Accept-Encoding\": \"gzip, deflate\", \n",
      "    \"Content-Length\": \"32\", \n",
      "    \"Content-Type\": \"application/x-www-form-urlencoded\", \n",
      "    \"Host\": \"httpbin.org\", \n",
      "    \"User-Agent\": \"python-requests/2.25.1\", \n",
      "    \"X-Amzn-Trace-Id\": \"Root=1-60533420-2eb6b2174fbd79411eaa20e5\"\n",
      "  }, \n",
      "  \"json\": null, \n",
      "  \"origin\": \"1.171.109.55\", \n",
      "  \"url\": \"http://httpbin.org/post\"\n",
      "}\n",
      "\n"
     ]
    }
   ],
   "source": [
    "print(requests.post('http://httpbin.org/post', data=data).text)"
   ]
  },
  {
   "cell_type": "code",
   "execution_count": 7,
   "id": "normal-aircraft",
   "metadata": {},
   "outputs": [
    {
     "name": "stdout",
     "output_type": "stream",
     "text": [
      "7\n",
      "7\n"
     ]
    }
   ],
   "source": [
    "def add(x, y):\n",
    "    return x + y\n",
    "\n",
    "print(add(2, 5))\n",
    "x = 2\n",
    "y = 5\n",
    "print(add(x=x, y=y))"
   ]
  },
  {
   "cell_type": "code",
   "execution_count": null,
   "id": "processed-penalty",
   "metadata": {},
   "outputs": [],
   "source": []
  }
 ],
 "metadata": {
  "kernelspec": {
   "display_name": "Python 3",
   "language": "python",
   "name": "python3"
  },
  "language_info": {
   "codemirror_mode": {
    "name": "ipython",
    "version": 3
   },
   "file_extension": ".py",
   "mimetype": "text/x-python",
   "name": "python",
   "nbconvert_exporter": "python",
   "pygments_lexer": "ipython3",
   "version": "3.7.0"
  }
 },
 "nbformat": 4,
 "nbformat_minor": 5
}
