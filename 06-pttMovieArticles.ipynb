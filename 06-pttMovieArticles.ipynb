{
 "cells": [
  {
   "cell_type": "code",
   "execution_count": 1,
   "id": "molecular-courage",
   "metadata": {},
   "outputs": [
    {
     "name": "stdout",
     "output_type": "stream",
     "text": [
      "[無雷] 正義聯盟半小時觀賞心得放心進來留言勿雷\n",
      "https://www.ptt.cc/bbs/movie/M.1616053094.A.D4D.html\n",
      "==========\n",
      "[好雷] 花漾女子 Promising Young Woman\n",
      "https://www.ptt.cc/bbs/movie/M.1616055998.A.AC2.html\n",
      "==========\n",
      "[討論] 16年前的康斯坦丁\n",
      "https://www.ptt.cc/bbs/movie/M.1616056110.A.322.html\n",
      "==========\n",
      "[請益] hbo go一定要連結有線電視業者?\n",
      "https://www.ptt.cc/bbs/movie/M.1616057076.A.FEF.html\n",
      "==========\n",
      "[新聞] 華納DC宣布將開拍「時俠」個人電影！\n",
      "https://www.ptt.cc/bbs/movie/M.1616057698.A.EF5.html\n",
      "==========\n"
     ]
    },
    {
     "ename": "IndexError",
     "evalue": "list index out of range",
     "output_type": "error",
     "traceback": [
      "\u001b[0;31m---------------------------------------------------------------------------\u001b[0m",
      "\u001b[0;31mIndexError\u001b[0m                                Traceback (most recent call last)",
      "\u001b[0;32m<ipython-input-1-0cfd78827c13>\u001b[0m in \u001b[0;36m<module>\u001b[0;34m\u001b[0m\n\u001b[1;32m     22\u001b[0m \u001b[0;34m\u001b[0m\u001b[0m\n\u001b[1;32m     23\u001b[0m     \u001b[0;32mfor\u001b[0m \u001b[0mtitleSoup\u001b[0m \u001b[0;32min\u001b[0m \u001b[0mtitleSoupList\u001b[0m\u001b[0;34m:\u001b[0m\u001b[0;34m\u001b[0m\u001b[0m\n\u001b[0;32m---> 24\u001b[0;31m         \u001b[0mtitle\u001b[0m \u001b[0;34m=\u001b[0m \u001b[0mtitleSoup\u001b[0m\u001b[0;34m.\u001b[0m\u001b[0mselect\u001b[0m\u001b[0;34m(\u001b[0m\u001b[0;34m'a'\u001b[0m\u001b[0;34m)\u001b[0m\u001b[0;34m[\u001b[0m\u001b[0;36m0\u001b[0m\u001b[0;34m]\u001b[0m\u001b[0;34m.\u001b[0m\u001b[0mtext\u001b[0m\u001b[0;34m\u001b[0m\u001b[0m\n\u001b[0m\u001b[1;32m     25\u001b[0m         \u001b[0marticleUrl\u001b[0m \u001b[0;34m=\u001b[0m \u001b[0;34m'https://www.ptt.cc'\u001b[0m \u001b[0;34m+\u001b[0m \u001b[0mtitleSoup\u001b[0m\u001b[0;34m.\u001b[0m\u001b[0mselect\u001b[0m\u001b[0;34m(\u001b[0m\u001b[0;34m'a'\u001b[0m\u001b[0;34m)\u001b[0m\u001b[0;34m[\u001b[0m\u001b[0;36m0\u001b[0m\u001b[0;34m]\u001b[0m\u001b[0;34m[\u001b[0m\u001b[0;34m'href'\u001b[0m\u001b[0;34m]\u001b[0m\u001b[0;34m\u001b[0m\u001b[0m\n\u001b[1;32m     26\u001b[0m \u001b[0;34m\u001b[0m\u001b[0m\n",
      "\u001b[0;31mIndexError\u001b[0m: list index out of range"
     ]
    }
   ],
   "source": [
    "import requests\n",
    "from bs4 import BeautifulSoup\n",
    "import os\n",
    "\n",
    "folderName = 'pttMovie/'\n",
    "if not os.path.exists(folderName):\n",
    "    os.mkdir(folderName)\n",
    "\n",
    "url = 'https://www.ptt.cc/bbs/movie/index.html'\n",
    "headers = {\n",
    "    'User-Agent': 'Mozilla/5.0 (Macintosh; Intel Mac OS X 11_2_2) AppleWebKit/537.36 (KHTML, like Gecko) Chrome/89.0.4389.82 Safari/537.36'\n",
    "}\n",
    "\n",
    "for i in range(0, 5):\n",
    "    res = requests.get(url, headers=headers)\n",
    "    html = res.text\n",
    "\n",
    "    soup = BeautifulSoup(html, 'html.parser')\n",
    "\n",
    "    titleSoupList = soup.select('div.title')\n",
    "    # print(titleSoupList)\n",
    "\n",
    "    for titleSoup in titleSoupList:\n",
    "        title = titleSoup.select('a')[0].text\n",
    "        articleUrl = 'https://www.ptt.cc' + titleSoup.select('a')[0]['href']\n",
    "        \n",
    "        # Get articles\n",
    "        resArticle = requests.get(articleUrl, headers=headers)\n",
    "        soupArticle = BeautifulSoup(resArticle.text, 'html.parser')\n",
    "\n",
    "        article = soupArticle.select('div[id=\"main-content\"]')[0]\n",
    "\n",
    "        for t in ['span', 'div']:\n",
    "            for i in article.select(t):\n",
    "                i.extract()\n",
    "\n",
    "        articleContent = article.text\n",
    "        \n",
    "        f = open(folderName + title + '.txt', 'w', encoding='utf-8')\n",
    "        f.write(articleContent)\n",
    "        f.close()\n",
    "        \n",
    "        print(title)\n",
    "        print(articleUrl)\n",
    "        print('==========')\n",
    "\n",
    "    newUrl = 'https://www.ptt.cc' + soup.select('a[class=\"btn wide\"]')[1]['href']\n",
    "    # print(newUrl)\n",
    "    url = newUrl"
   ]
  },
  {
   "cell_type": "code",
   "execution_count": null,
   "id": "occupational-beast",
   "metadata": {},
   "outputs": [],
   "source": []
  }
 ],
 "metadata": {
  "kernelspec": {
   "display_name": "Python 3",
   "language": "python",
   "name": "python3"
  },
  "language_info": {
   "codemirror_mode": {
    "name": "ipython",
    "version": 3
   },
   "file_extension": ".py",
   "mimetype": "text/x-python",
   "name": "python",
   "nbconvert_exporter": "python",
   "pygments_lexer": "ipython3",
   "version": "3.7.0"
  }
 },
 "nbformat": 4,
 "nbformat_minor": 5
}
