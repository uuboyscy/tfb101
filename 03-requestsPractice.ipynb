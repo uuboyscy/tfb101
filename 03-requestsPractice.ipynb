{
 "cells": [
  {
   "cell_type": "code",
   "execution_count": 2,
   "id": "compressed-partnership",
   "metadata": {},
   "outputs": [
    {
     "name": "stdout",
     "output_type": "stream",
     "text": [
      "[<a href=\"/bbs/\" id=\"logo\">批踢踢實業坊</a>]\n",
      "<a href=\"/bbs/\" id=\"logo\">批踢踢實業坊</a>\n",
      "批踢踢實業坊\n",
      "https://www.ptt.cc/bbs/\n",
      "[<span class=\"board-label\">看板 </span>]\n",
      "[<a href=\"/bbs/\" id=\"logo\">批踢踢實業坊</a>]\n",
      "<a href=\"/bbs/\" id=\"logo\">批踢踢實業坊</a>\n",
      "批踢踢實業坊\n",
      "https://www.ptt.cc/bbs/\n",
      "[<a class=\"board\" href=\"/bbs/joke/index.html\"><span class=\"board-label\">看板 </span>joke</a>]\n",
      "[<span class=\"board-label\">看板 </span>]\n"
     ]
    }
   ],
   "source": [
    "import requests\n",
    "from bs4 import BeautifulSoup\n",
    "\n",
    "url = 'https://www.ptt.cc/bbs/joke/index.html'\n",
    "headers = {\n",
    "    'User-Agent': 'Mozilla/5.0 (Macintosh; Intel Mac OS X 11_2_2) AppleWebKit/537.36 (KHTML, like Gecko) Chrome/89.0.4389.82 Safari/537.36'\n",
    "}\n",
    "\n",
    "# req = request.Request(url=url, headers=headers)\n",
    "# res = request.urlopen(req)\n",
    "\n",
    "# html = res.read().decode('utf-8')\n",
    "# print(html)\n",
    "\n",
    "res = requests.get(url, headers=headers)\n",
    "html = res.text\n",
    "\n",
    "soup = BeautifulSoup(html, 'html.parser')\n",
    "# print(soup)\n",
    "\n",
    "'''findAll'''\n",
    "## <a id=\"logo\" href=\"/bbs/\">批踢踢實業坊</a>\n",
    "# logo = soup.findAll('a', {'id': 'logo'})\n",
    "logo = soup.findAll('a', id='logo')\n",
    "print(logo)\n",
    "print(logo[0])\n",
    "print(logo[0].text)\n",
    "print(\"https://www.ptt.cc\" + logo[0]['href'])\n",
    "\n",
    "########\n",
    "\n",
    "boardLabel = soup.findAll('span', class_='board-label')\n",
    "print(boardLabel)\n",
    "\n",
    "'''select'''\n",
    "# logo = soup.select('a[id=\"logo\"]')\n",
    "logo = soup.select('a#logo')\n",
    "print(logo)\n",
    "print(logo[0])\n",
    "print(logo[0].text)\n",
    "print(\"https://www.ptt.cc\" + logo[0]['href'])\n",
    "\n",
    "'''query twice'''\n",
    "board = soup.select('a[class=\"board\"]')\n",
    "print(board)\n",
    "soupBoard = board[0]\n",
    "label = soupBoard.findAll('span')\n",
    "print(label)"
   ]
  },
  {
   "cell_type": "code",
   "execution_count": null,
   "id": "little-feeling",
   "metadata": {},
   "outputs": [],
   "source": []
  }
 ],
 "metadata": {
  "kernelspec": {
   "display_name": "Python 3",
   "language": "python",
   "name": "python3"
  },
  "language_info": {
   "codemirror_mode": {
    "name": "ipython",
    "version": 3
   },
   "file_extension": ".py",
   "mimetype": "text/x-python",
   "name": "python",
   "nbconvert_exporter": "python",
   "pygments_lexer": "ipython3",
   "version": "3.7.0"
  }
 },
 "nbformat": 4,
 "nbformat_minor": 5
}
