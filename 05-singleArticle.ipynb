{
 "cells": [
  {
   "cell_type": "code",
   "execution_count": 6,
   "id": "advanced-basis",
   "metadata": {
    "scrolled": true
   },
   "outputs": [
    {
     "name": "stdout",
     "output_type": "stream",
     "text": [
      "作者nbarepeat (nbarepeat)看板movie標題[討論] 16年前的康斯坦丁時間Thu Mar 18 16:28:28 2021\n",
      "\n",
      "昨天又看到康斯坦丁\n",
      "雖然16年了\n",
      "但是那時的特效配上劇情\n",
      "還有基哥 瑞秋 午夜 帥氣的撒旦\n",
      "空靈的古一\n",
      "就算放到現在來上映\n",
      "完全無違和感\n",
      "每次轉到都看到完\n",
      "-----\n",
      "Sent from JPTT on my iPhone\n",
      "\n",
      "--\n",
      "\n"
     ]
    }
   ],
   "source": [
    "import requests\n",
    "from bs4 import BeautifulSoup\n",
    "\n",
    "articleUrl = 'https://www.ptt.cc/bbs/movie/M.1616056110.A.322.html'\n",
    "headers = {\n",
    "    'User-Agent': 'Mozilla/5.0 (Macintosh; Intel Mac OS X 11_2_2) AppleWebKit/537.36 (KHTML, like Gecko) Chrome/89.0.4389.82 Safari/537.36'\n",
    "}\n",
    "\n",
    "resArticle = requests.get(articleUrl)\n",
    "soupArticle = BeautifulSoup(resArticle.text, 'html.parser')\n",
    "\n",
    "article = soupArticle.select('div[id=\"main-content\"]')[0]\n",
    "articleContent = article.text.split('※ 發信站')[0]\n",
    "print(articleContent)"
   ]
  },
  {
   "cell_type": "code",
   "execution_count": 21,
   "id": "understood-printing",
   "metadata": {
    "scrolled": false
   },
   "outputs": [
    {
     "name": "stdout",
     "output_type": "stream",
     "text": [
      "\n",
      "\n",
      "昨天又看到康斯坦丁\n",
      "雖然16年了\n",
      "但是那時的特效配上劇情\n",
      "還有基哥 瑞秋 午夜 帥氣的撒旦\n",
      "空靈的古一\n",
      "就算放到現在來上映\n",
      "完全無違和感\n",
      "每次轉到都看到完\n",
      "-----\n",
      "Sent from JPTT on my iPhone\n",
      "\n",
      "--\n",
      "\n"
     ]
    }
   ],
   "source": [
    "import requests\n",
    "from bs4 import BeautifulSoup\n",
    "\n",
    "articleUrl = 'https://www.ptt.cc/bbs/movie/M.1616056110.A.322.html'\n",
    "headers = {\n",
    "    'User-Agent': 'Mozilla/5.0 (Macintosh; Intel Mac OS X 11_2_2) AppleWebKit/537.36 (KHTML, like Gecko) Chrome/89.0.4389.82 Safari/537.36'\n",
    "}\n",
    "\n",
    "resArticle = requests.get(articleUrl)\n",
    "soupArticle = BeautifulSoup(resArticle.text, 'html.parser')\n",
    "\n",
    "article = soupArticle.select('div[id=\"main-content\"]')[0]\n",
    "# for i in article.select('span'):\n",
    "#     i.extract()\n",
    "# for i in article.select('div'):\n",
    "#     i.extract()\n",
    "    \n",
    "for t in ['span', 'div']:\n",
    "    for i in article.select(t):\n",
    "        i.extract()\n",
    "    \n",
    "articleContent = article.text\n",
    "print(articleContent)"
   ]
  },
  {
   "cell_type": "code",
   "execution_count": 8,
   "id": "foster-charlotte",
   "metadata": {},
   "outputs": [
    {
     "data": {
      "text/plain": [
       "[<span class=\"article-meta-tag\">作者</span>,\n",
       " <span class=\"article-meta-value\">nbarepeat (nbarepeat)</span>,\n",
       " <span class=\"article-meta-tag\">看板</span>,\n",
       " <span class=\"article-meta-value\">movie</span>,\n",
       " <span class=\"article-meta-tag\">標題</span>,\n",
       " <span class=\"article-meta-value\">[討論] 16年前的康斯坦丁</span>,\n",
       " <span class=\"article-meta-tag\">時間</span>,\n",
       " <span class=\"article-meta-value\">Thu Mar 18 16:28:28 2021</span>,\n",
       " <span class=\"f2\">※ 發信站: 批踢踢實業坊(ptt.cc), 來自: 114.137.53.193 (臺灣)\n",
       " </span>,\n",
       " <span class=\"f2\">※ 文章網址: <a href=\"https://www.ptt.cc/bbs/movie/M.1616056110.A.322.html\" rel=\"nofollow\" target=\"_blank\">https://www.ptt.cc/bbs/movie/M.1616056110.A.322.html</a>\n",
       " </span>,\n",
       " <span class=\"hl push-tag\">推 </span>,\n",
       " <span class=\"f3 hl push-userid\">crazy586371 </span>,\n",
       " <span class=\"f3 push-content\">: <a href=\"https://i.imgur.com/D5NdMCu.gif\" rel=\"nofollow\" target=\"_blank\">https://i.imgur.com/D5NdMCu.gif</a></span>,\n",
       " <span class=\"push-ipdatetime\"> 03/18 16:29\n",
       " </span>,\n",
       " <span class=\"hl push-tag\">推 </span>,\n",
       " <span class=\"f3 hl push-userid\">Tencc       </span>,\n",
       " <span class=\"f3 push-content\">: 神作就是不管什麼年代看都很好看</span>,\n",
       " <span class=\"push-ipdatetime\"> 03/18 16:32\n",
       " </span>,\n",
       " <span class=\"hl push-tag\">推 </span>,\n",
       " <span class=\"f3 hl push-userid\">protect6090 </span>,\n",
       " <span class=\"f3 push-content\">: 當時的凡赫辛也是神作一枚</span>,\n",
       " <span class=\"push-ipdatetime\"> 03/18 16:34\n",
       " </span>,\n",
       " <span class=\"hl push-tag\">推 </span>,\n",
       " <span class=\"f3 hl push-userid\">zero2742741 </span>,\n",
       " <span class=\"f3 push-content\">: 那個中指真神</span>,\n",
       " <span class=\"push-ipdatetime\"> 03/18 16:37\n",
       " </span>,\n",
       " <span class=\"hl push-tag\">推 </span>,\n",
       " <span class=\"f3 hl push-userid\">kawumwx     </span>,\n",
       " <span class=\"f3 push-content\">: 你怎麼能忘了開計程車的，以後可是會打狂派</span>,\n",
       " <span class=\"push-ipdatetime\"> 03/18 16:40\n",
       " </span>,\n",
       " <span class=\"hl push-tag\">推 </span>,\n",
       " <span class=\"f3 hl push-userid\">burger13784 </span>,\n",
       " <span class=\"f3 push-content\">: 中指真的帥炸</span>,\n",
       " <span class=\"push-ipdatetime\"> 03/18 16:40\n",
       " </span>,\n",
       " <span class=\"hl push-tag\">推 </span>,\n",
       " <span class=\"f3 hl push-userid\">luckyland   </span>,\n",
       " <span class=\"f3 push-content\">: 神作看幾次都不會膩</span>,\n",
       " <span class=\"push-ipdatetime\"> 03/18 16:44\n",
       " </span>,\n",
       " <span class=\"hl push-tag\">推 </span>,\n",
       " <span class=\"f3 hl push-userid\">coolda2001  </span>,\n",
       " <span class=\"f3 push-content\">: 說實在當初在電影院看真的覺得蠻無聊的</span>,\n",
       " <span class=\"push-ipdatetime\"> 03/18 16:45\n",
       " </span>,\n",
       " <span class=\"hl push-tag\">推 </span>,\n",
       " <span class=\"f3 hl push-userid\">arlfasamue  </span>,\n",
       " <span class=\"f3 push-content\">: 午夜場神片..</span>,\n",
       " <span class=\"push-ipdatetime\"> 03/18 16:47\n",
       " </span>,\n",
       " <span class=\"hl push-tag\">推 </span>,\n",
       " <span class=\"f3 hl push-userid\">rewqasdf    </span>,\n",
       " <span class=\"f3 push-content\">: 午夜氣氛不錯</span>,\n",
       " <span class=\"push-ipdatetime\"> 03/18 16:51\n",
       " </span>,\n",
       " <span class=\"hl push-tag\">推 </span>,\n",
       " <span class=\"f3 hl push-userid\">rinsoukan   </span>,\n",
       " <span class=\"f3 push-content\">: 神作 當年電影看到中指全場大笑</span>,\n",
       " <span class=\"push-ipdatetime\"> 03/18 16:53\n",
       " </span>,\n",
       " <span class=\"f1 hl push-tag\">→ </span>,\n",
       " <span class=\"f3 hl push-userid\">laechan     </span>,\n",
       " <span class=\"f3 push-content\">: 這片色調就是吃氣氛,其實營造的很不錯</span>,\n",
       " <span class=\"push-ipdatetime\"> 03/18 16:54\n",
       " </span>,\n",
       " <span class=\"f1 hl push-tag\">→ </span>,\n",
       " <span class=\"f3 hl push-userid\">laechan     </span>,\n",
       " <span class=\"f3 push-content\">: 期待網飛能上電影版,省得再去租片</span>,\n",
       " <span class=\"push-ipdatetime\"> 03/18 16:55\n",
       " </span>,\n",
       " <span class=\"hl push-tag\">推 </span>,\n",
       " <span class=\"f3 hl push-userid\">smilekrtc   </span>,\n",
       " <span class=\"f3 push-content\">: 等等19：00東森洋片又要重播</span>,\n",
       " <span class=\"push-ipdatetime\"> 03/18 17:02\n",
       " </span>,\n",
       " <span class=\"hl push-tag\">推 </span>,\n",
       " <span class=\"f3 hl push-userid\">LeeBing     </span>,\n",
       " <span class=\"f3 push-content\">: 基奴李維，對撒旦比中指的男人</span>,\n",
       " <span class=\"push-ipdatetime\"> 03/18 17:11\n",
       " </span>,\n",
       " <span class=\"hl push-tag\">推 </span>,\n",
       " <span class=\"f3 hl push-userid\">ez910115    </span>,\n",
       " <span class=\"f3 push-content\">: 幹。是犧牲</span>,\n",
       " <span class=\"push-ipdatetime\"> 03/18 17:19\n",
       " </span>,\n",
       " <span class=\"hl push-tag\">推 </span>,\n",
       " <span class=\"f3 hl push-userid\">polo007     </span>,\n",
       " <span class=\"f3 push-content\">: 唯一敢對撒旦比中指的驅魔師，太帥惹</span>,\n",
       " <span class=\"push-ipdatetime\"> 03/18 17:23\n",
       " </span>,\n",
       " <span class=\"hl push-tag\">推 </span>,\n",
       " <span class=\"f3 hl push-userid\">eric999     </span>,\n",
       " <span class=\"f3 push-content\">: 凡赫辛很普吧</span>,\n",
       " <span class=\"push-ipdatetime\"> 03/18 17:24\n",
       " </span>,\n",
       " <span class=\"f1 hl push-tag\">→ </span>,\n",
       " <span class=\"f3 hl push-userid\">eric999     </span>,\n",
       " <span class=\"f3 push-content\">: 當年一直覺得可惜 這部沒有找艾爾帕西諾演傻蛋</span>,\n",
       " <span class=\"push-ipdatetime\"> 03/18 17:26\n",
       " </span>,\n",
       " <span class=\"hl push-tag\">推 </span>,\n",
       " <span class=\"f3 hl push-userid\">paradisaea  </span>,\n",
       " <span class=\"f3 push-content\">: 樓上 那就變魔鬼代言人續集了</span>,\n",
       " <span class=\"push-ipdatetime\"> 03/18 17:26\n",
       " </span>,\n",
       " <span class=\"f1 hl push-tag\">→ </span>,\n",
       " <span class=\"f3 hl push-userid\">eric999     </span>,\n",
       " <span class=\"f3 push-content\">: 原Po忘了西亞 他真的很適合演跟班 然後這部他還是</span>,\n",
       " <span class=\"push-ipdatetime\"> 03/18 17:27\n",
       " </span>,\n",
       " <span class=\"f1 hl push-tag\">→ </span>,\n",
       " <span class=\"f3 hl push-userid\">eric999     </span>,\n",
       " <span class=\"f3 push-content\">: 有彩蛋的角色</span>,\n",
       " <span class=\"push-ipdatetime\"> 03/18 17:27\n",
       " </span>,\n",
       " <span class=\"f1 hl push-tag\">→ </span>,\n",
       " <span class=\"f3 hl push-userid\">eric999     </span>,\n",
       " <span class=\"f3 push-content\">: 沒錯 魔鬼代言人續集</span>,\n",
       " <span class=\"push-ipdatetime\"> 03/18 17:28\n",
       " </span>,\n",
       " <span class=\"hl push-tag\">推 </span>,\n",
       " <span class=\"f3 hl push-userid\">ghostl40809 </span>,\n",
       " <span class=\"f3 push-content\">: 在天堂的大門前對撒旦比中指 真的雞掰(稱讚)</span>,\n",
       " <span class=\"push-ipdatetime\"> 03/18 17:31\n",
       " </span>,\n",
       " <span class=\"f1 hl push-tag\">→ </span>,\n",
       " <span class=\"f3 hl push-userid\">eric999     </span>,\n",
       " <span class=\"f3 push-content\">: 後來有電視劇版 可惜不太好看 一季就沒了</span>,\n",
       " <span class=\"push-ipdatetime\"> 03/18 17:36\n",
       " </span>,\n",
       " <span class=\"hl push-tag\">推 </span>,\n",
       " <span class=\"f3 hl push-userid\">iamnotfatest</span>,\n",
       " <span class=\"f3 push-content\">: 西亞以前真的跟班一哥 I Robet裡也是跟班屁孩</span>,\n",
       " <span class=\"push-ipdatetime\"> 03/18 17:37\n",
       " </span>,\n",
       " <span class=\"f1 hl push-tag\">→ </span>,\n",
       " <span class=\"f3 hl push-userid\">eric999     </span>,\n",
       " <span class=\"f3 push-content\">: 也是一直在幫忙的好心黑人天使其實是邪惡組織的幕</span>,\n",
       " <span class=\"push-ipdatetime\"> 03/18 17:37\n",
       " </span>,\n",
       " <span class=\"f1 hl push-tag\">→ </span>,\n",
       " <span class=\"f3 hl push-userid\">eric999     </span>,\n",
       " <span class=\"f3 push-content\">: 後大魔王</span>,\n",
       " <span class=\"push-ipdatetime\"> 03/18 17:37\n",
       " </span>,\n",
       " <span class=\"f1 hl push-tag\">→ </span>,\n",
       " <span class=\"f3 hl push-userid\">eric999     </span>,\n",
       " <span class=\"f3 push-content\">: 跟班一哥＋1</span>,\n",
       " <span class=\"push-ipdatetime\"> 03/18 17:39\n",
       " </span>,\n",
       " <span class=\"hl push-tag\">推 </span>,\n",
       " <span class=\"f3 hl push-userid\">bye2007     </span>,\n",
       " <span class=\"f3 push-content\">: 很讚的爽片</span>,\n",
       " <span class=\"push-ipdatetime\"> 03/18 17:40\n",
       " </span>]"
      ]
     },
     "execution_count": 8,
     "metadata": {},
     "output_type": "execute_result"
    }
   ],
   "source": [
    "article.select('span')"
   ]
  },
  {
   "cell_type": "code",
   "execution_count": 10,
   "id": "horizontal-avenue",
   "metadata": {},
   "outputs": [
    {
     "data": {
      "text/plain": [
       "<span class=\"article-meta-tag\">作者</span>"
      ]
     },
     "execution_count": 10,
     "metadata": {},
     "output_type": "execute_result"
    }
   ],
   "source": [
    "article.select('span')[0]"
   ]
  },
  {
   "cell_type": "code",
   "execution_count": 11,
   "id": "accepting-brunswick",
   "metadata": {},
   "outputs": [
    {
     "data": {
      "text/plain": [
       "<span class=\"article-meta-tag\">作者</span>"
      ]
     },
     "execution_count": 11,
     "metadata": {},
     "output_type": "execute_result"
    }
   ],
   "source": [
    "article.select('span')[0].extract()"
   ]
  },
  {
   "cell_type": "code",
   "execution_count": 12,
   "id": "curious-concord",
   "metadata": {},
   "outputs": [
    {
     "data": {
      "text/plain": [
       "<span class=\"article-meta-value\">nbarepeat (nbarepeat)</span>"
      ]
     },
     "execution_count": 12,
     "metadata": {},
     "output_type": "execute_result"
    }
   ],
   "source": [
    "article.select('span')[0]"
   ]
  },
  {
   "cell_type": "code",
   "execution_count": 13,
   "id": "korean-penny",
   "metadata": {},
   "outputs": [
    {
     "data": {
      "text/plain": [
       "[<span class=\"article-meta-value\">nbarepeat (nbarepeat)</span>,\n",
       " <span class=\"article-meta-tag\">看板</span>,\n",
       " <span class=\"article-meta-value\">movie</span>,\n",
       " <span class=\"article-meta-tag\">標題</span>,\n",
       " <span class=\"article-meta-value\">[討論] 16年前的康斯坦丁</span>,\n",
       " <span class=\"article-meta-tag\">時間</span>,\n",
       " <span class=\"article-meta-value\">Thu Mar 18 16:28:28 2021</span>,\n",
       " <span class=\"f2\">※ 發信站: 批踢踢實業坊(ptt.cc), 來自: 114.137.53.193 (臺灣)\n",
       " </span>,\n",
       " <span class=\"f2\">※ 文章網址: <a href=\"https://www.ptt.cc/bbs/movie/M.1616056110.A.322.html\" rel=\"nofollow\" target=\"_blank\">https://www.ptt.cc/bbs/movie/M.1616056110.A.322.html</a>\n",
       " </span>,\n",
       " <span class=\"hl push-tag\">推 </span>,\n",
       " <span class=\"f3 hl push-userid\">crazy586371 </span>,\n",
       " <span class=\"f3 push-content\">: <a href=\"https://i.imgur.com/D5NdMCu.gif\" rel=\"nofollow\" target=\"_blank\">https://i.imgur.com/D5NdMCu.gif</a></span>,\n",
       " <span class=\"push-ipdatetime\"> 03/18 16:29\n",
       " </span>,\n",
       " <span class=\"hl push-tag\">推 </span>,\n",
       " <span class=\"f3 hl push-userid\">Tencc       </span>,\n",
       " <span class=\"f3 push-content\">: 神作就是不管什麼年代看都很好看</span>,\n",
       " <span class=\"push-ipdatetime\"> 03/18 16:32\n",
       " </span>,\n",
       " <span class=\"hl push-tag\">推 </span>,\n",
       " <span class=\"f3 hl push-userid\">protect6090 </span>,\n",
       " <span class=\"f3 push-content\">: 當時的凡赫辛也是神作一枚</span>,\n",
       " <span class=\"push-ipdatetime\"> 03/18 16:34\n",
       " </span>,\n",
       " <span class=\"hl push-tag\">推 </span>,\n",
       " <span class=\"f3 hl push-userid\">zero2742741 </span>,\n",
       " <span class=\"f3 push-content\">: 那個中指真神</span>,\n",
       " <span class=\"push-ipdatetime\"> 03/18 16:37\n",
       " </span>,\n",
       " <span class=\"hl push-tag\">推 </span>,\n",
       " <span class=\"f3 hl push-userid\">kawumwx     </span>,\n",
       " <span class=\"f3 push-content\">: 你怎麼能忘了開計程車的，以後可是會打狂派</span>,\n",
       " <span class=\"push-ipdatetime\"> 03/18 16:40\n",
       " </span>,\n",
       " <span class=\"hl push-tag\">推 </span>,\n",
       " <span class=\"f3 hl push-userid\">burger13784 </span>,\n",
       " <span class=\"f3 push-content\">: 中指真的帥炸</span>,\n",
       " <span class=\"push-ipdatetime\"> 03/18 16:40\n",
       " </span>,\n",
       " <span class=\"hl push-tag\">推 </span>,\n",
       " <span class=\"f3 hl push-userid\">luckyland   </span>,\n",
       " <span class=\"f3 push-content\">: 神作看幾次都不會膩</span>,\n",
       " <span class=\"push-ipdatetime\"> 03/18 16:44\n",
       " </span>,\n",
       " <span class=\"hl push-tag\">推 </span>,\n",
       " <span class=\"f3 hl push-userid\">coolda2001  </span>,\n",
       " <span class=\"f3 push-content\">: 說實在當初在電影院看真的覺得蠻無聊的</span>,\n",
       " <span class=\"push-ipdatetime\"> 03/18 16:45\n",
       " </span>,\n",
       " <span class=\"hl push-tag\">推 </span>,\n",
       " <span class=\"f3 hl push-userid\">arlfasamue  </span>,\n",
       " <span class=\"f3 push-content\">: 午夜場神片..</span>,\n",
       " <span class=\"push-ipdatetime\"> 03/18 16:47\n",
       " </span>,\n",
       " <span class=\"hl push-tag\">推 </span>,\n",
       " <span class=\"f3 hl push-userid\">rewqasdf    </span>,\n",
       " <span class=\"f3 push-content\">: 午夜氣氛不錯</span>,\n",
       " <span class=\"push-ipdatetime\"> 03/18 16:51\n",
       " </span>,\n",
       " <span class=\"hl push-tag\">推 </span>,\n",
       " <span class=\"f3 hl push-userid\">rinsoukan   </span>,\n",
       " <span class=\"f3 push-content\">: 神作 當年電影看到中指全場大笑</span>,\n",
       " <span class=\"push-ipdatetime\"> 03/18 16:53\n",
       " </span>,\n",
       " <span class=\"f1 hl push-tag\">→ </span>,\n",
       " <span class=\"f3 hl push-userid\">laechan     </span>,\n",
       " <span class=\"f3 push-content\">: 這片色調就是吃氣氛,其實營造的很不錯</span>,\n",
       " <span class=\"push-ipdatetime\"> 03/18 16:54\n",
       " </span>,\n",
       " <span class=\"f1 hl push-tag\">→ </span>,\n",
       " <span class=\"f3 hl push-userid\">laechan     </span>,\n",
       " <span class=\"f3 push-content\">: 期待網飛能上電影版,省得再去租片</span>,\n",
       " <span class=\"push-ipdatetime\"> 03/18 16:55\n",
       " </span>,\n",
       " <span class=\"hl push-tag\">推 </span>,\n",
       " <span class=\"f3 hl push-userid\">smilekrtc   </span>,\n",
       " <span class=\"f3 push-content\">: 等等19：00東森洋片又要重播</span>,\n",
       " <span class=\"push-ipdatetime\"> 03/18 17:02\n",
       " </span>,\n",
       " <span class=\"hl push-tag\">推 </span>,\n",
       " <span class=\"f3 hl push-userid\">LeeBing     </span>,\n",
       " <span class=\"f3 push-content\">: 基奴李維，對撒旦比中指的男人</span>,\n",
       " <span class=\"push-ipdatetime\"> 03/18 17:11\n",
       " </span>,\n",
       " <span class=\"hl push-tag\">推 </span>,\n",
       " <span class=\"f3 hl push-userid\">ez910115    </span>,\n",
       " <span class=\"f3 push-content\">: 幹。是犧牲</span>,\n",
       " <span class=\"push-ipdatetime\"> 03/18 17:19\n",
       " </span>,\n",
       " <span class=\"hl push-tag\">推 </span>,\n",
       " <span class=\"f3 hl push-userid\">polo007     </span>,\n",
       " <span class=\"f3 push-content\">: 唯一敢對撒旦比中指的驅魔師，太帥惹</span>,\n",
       " <span class=\"push-ipdatetime\"> 03/18 17:23\n",
       " </span>,\n",
       " <span class=\"hl push-tag\">推 </span>,\n",
       " <span class=\"f3 hl push-userid\">eric999     </span>,\n",
       " <span class=\"f3 push-content\">: 凡赫辛很普吧</span>,\n",
       " <span class=\"push-ipdatetime\"> 03/18 17:24\n",
       " </span>,\n",
       " <span class=\"f1 hl push-tag\">→ </span>,\n",
       " <span class=\"f3 hl push-userid\">eric999     </span>,\n",
       " <span class=\"f3 push-content\">: 當年一直覺得可惜 這部沒有找艾爾帕西諾演傻蛋</span>,\n",
       " <span class=\"push-ipdatetime\"> 03/18 17:26\n",
       " </span>,\n",
       " <span class=\"hl push-tag\">推 </span>,\n",
       " <span class=\"f3 hl push-userid\">paradisaea  </span>,\n",
       " <span class=\"f3 push-content\">: 樓上 那就變魔鬼代言人續集了</span>,\n",
       " <span class=\"push-ipdatetime\"> 03/18 17:26\n",
       " </span>,\n",
       " <span class=\"f1 hl push-tag\">→ </span>,\n",
       " <span class=\"f3 hl push-userid\">eric999     </span>,\n",
       " <span class=\"f3 push-content\">: 原Po忘了西亞 他真的很適合演跟班 然後這部他還是</span>,\n",
       " <span class=\"push-ipdatetime\"> 03/18 17:27\n",
       " </span>,\n",
       " <span class=\"f1 hl push-tag\">→ </span>,\n",
       " <span class=\"f3 hl push-userid\">eric999     </span>,\n",
       " <span class=\"f3 push-content\">: 有彩蛋的角色</span>,\n",
       " <span class=\"push-ipdatetime\"> 03/18 17:27\n",
       " </span>,\n",
       " <span class=\"f1 hl push-tag\">→ </span>,\n",
       " <span class=\"f3 hl push-userid\">eric999     </span>,\n",
       " <span class=\"f3 push-content\">: 沒錯 魔鬼代言人續集</span>,\n",
       " <span class=\"push-ipdatetime\"> 03/18 17:28\n",
       " </span>,\n",
       " <span class=\"hl push-tag\">推 </span>,\n",
       " <span class=\"f3 hl push-userid\">ghostl40809 </span>,\n",
       " <span class=\"f3 push-content\">: 在天堂的大門前對撒旦比中指 真的雞掰(稱讚)</span>,\n",
       " <span class=\"push-ipdatetime\"> 03/18 17:31\n",
       " </span>,\n",
       " <span class=\"f1 hl push-tag\">→ </span>,\n",
       " <span class=\"f3 hl push-userid\">eric999     </span>,\n",
       " <span class=\"f3 push-content\">: 後來有電視劇版 可惜不太好看 一季就沒了</span>,\n",
       " <span class=\"push-ipdatetime\"> 03/18 17:36\n",
       " </span>,\n",
       " <span class=\"hl push-tag\">推 </span>,\n",
       " <span class=\"f3 hl push-userid\">iamnotfatest</span>,\n",
       " <span class=\"f3 push-content\">: 西亞以前真的跟班一哥 I Robet裡也是跟班屁孩</span>,\n",
       " <span class=\"push-ipdatetime\"> 03/18 17:37\n",
       " </span>,\n",
       " <span class=\"f1 hl push-tag\">→ </span>,\n",
       " <span class=\"f3 hl push-userid\">eric999     </span>,\n",
       " <span class=\"f3 push-content\">: 也是一直在幫忙的好心黑人天使其實是邪惡組織的幕</span>,\n",
       " <span class=\"push-ipdatetime\"> 03/18 17:37\n",
       " </span>,\n",
       " <span class=\"f1 hl push-tag\">→ </span>,\n",
       " <span class=\"f3 hl push-userid\">eric999     </span>,\n",
       " <span class=\"f3 push-content\">: 後大魔王</span>,\n",
       " <span class=\"push-ipdatetime\"> 03/18 17:37\n",
       " </span>,\n",
       " <span class=\"f1 hl push-tag\">→ </span>,\n",
       " <span class=\"f3 hl push-userid\">eric999     </span>,\n",
       " <span class=\"f3 push-content\">: 跟班一哥＋1</span>,\n",
       " <span class=\"push-ipdatetime\"> 03/18 17:39\n",
       " </span>,\n",
       " <span class=\"hl push-tag\">推 </span>,\n",
       " <span class=\"f3 hl push-userid\">bye2007     </span>,\n",
       " <span class=\"f3 push-content\">: 很讚的爽片</span>,\n",
       " <span class=\"push-ipdatetime\"> 03/18 17:40\n",
       " </span>]"
      ]
     },
     "execution_count": 13,
     "metadata": {},
     "output_type": "execute_result"
    }
   ],
   "source": [
    "article.select('span')"
   ]
  },
  {
   "cell_type": "code",
   "execution_count": 14,
   "id": "atmospheric-purpose",
   "metadata": {},
   "outputs": [],
   "source": [
    "for i in article.select('span'):\n",
    "    i.extract()"
   ]
  },
  {
   "cell_type": "code",
   "execution_count": 15,
   "id": "genuine-moderator",
   "metadata": {},
   "outputs": [
    {
     "data": {
      "text/plain": [
       "[]"
      ]
     },
     "execution_count": 15,
     "metadata": {},
     "output_type": "execute_result"
    }
   ],
   "source": [
    "article.select('span')"
   ]
  },
  {
   "cell_type": "code",
   "execution_count": 16,
   "id": "administrative-realtor",
   "metadata": {},
   "outputs": [
    {
     "data": {
      "text/plain": [
       "<div class=\"bbs-screen bbs-content\" id=\"main-content\"><div class=\"article-metaline\"></div><div class=\"article-metaline-right\"></div><div class=\"article-metaline\"></div><div class=\"article-metaline\"></div>\n",
       "\n",
       "昨天又看到康斯坦丁\n",
       "雖然16年了\n",
       "但是那時的特效配上劇情\n",
       "還有基哥 瑞秋 午夜 帥氣的撒旦\n",
       "空靈的古一\n",
       "就算放到現在來上映\n",
       "完全無違和感\n",
       "每次轉到都看到完\n",
       "-----\n",
       "Sent from JPTT on my iPhone\n",
       "\n",
       "--\n",
       "<div class=\"push\"></div><div class=\"richcontent\"><blockquote class=\"imgur-embed-pub\" data-id=\"D5NdMCu\" lang=\"en\"><a href=\"//imgur.com/D5NdMCu\"></a></blockquote><script async=\"\" charset=\"utf-8\" src=\"//s.imgur.com/min/embed.js\"></script></div><div class=\"push\"></div><div class=\"push\"></div><div class=\"push\"></div><div class=\"push\"></div><div class=\"push\"></div><div class=\"push\"></div><div class=\"push\"></div><div class=\"push\"></div><div class=\"push\"></div><div class=\"push\"></div><div class=\"push\"></div><div class=\"push\"></div><div class=\"push\"></div><div class=\"push\"></div><div class=\"push\"></div><div class=\"push\"></div><div class=\"push\"></div><div class=\"push\"></div><div class=\"push\"></div><div class=\"push\"></div><div class=\"push\"></div><div class=\"push\"></div><div class=\"push\"></div><div class=\"push\"></div><div class=\"push\"></div><div class=\"push\"></div><div class=\"push\"></div><div class=\"push\"></div><div class=\"push\"></div></div>"
      ]
     },
     "execution_count": 16,
     "metadata": {},
     "output_type": "execute_result"
    }
   ],
   "source": [
    "article"
   ]
  },
  {
   "cell_type": "code",
   "execution_count": 17,
   "id": "spoken-discrimination",
   "metadata": {},
   "outputs": [],
   "source": [
    "for i in article.select('div'):\n",
    "    i.extract()"
   ]
  },
  {
   "cell_type": "code",
   "execution_count": 18,
   "id": "stylish-creature",
   "metadata": {},
   "outputs": [
    {
     "data": {
      "text/plain": [
       "<div class=\"bbs-screen bbs-content\" id=\"main-content\">\n",
       "\n",
       "昨天又看到康斯坦丁\n",
       "雖然16年了\n",
       "但是那時的特效配上劇情\n",
       "還有基哥 瑞秋 午夜 帥氣的撒旦\n",
       "空靈的古一\n",
       "就算放到現在來上映\n",
       "完全無違和感\n",
       "每次轉到都看到完\n",
       "-----\n",
       "Sent from JPTT on my iPhone\n",
       "\n",
       "--\n",
       "</div>"
      ]
     },
     "execution_count": 18,
     "metadata": {},
     "output_type": "execute_result"
    }
   ],
   "source": [
    "article"
   ]
  },
  {
   "cell_type": "code",
   "execution_count": 19,
   "id": "communist-commander",
   "metadata": {},
   "outputs": [
    {
     "name": "stdout",
     "output_type": "stream",
     "text": [
      "\n",
      "\n",
      "昨天又看到康斯坦丁\n",
      "雖然16年了\n",
      "但是那時的特效配上劇情\n",
      "還有基哥 瑞秋 午夜 帥氣的撒旦\n",
      "空靈的古一\n",
      "就算放到現在來上映\n",
      "完全無違和感\n",
      "每次轉到都看到完\n",
      "-----\n",
      "Sent from JPTT on my iPhone\n",
      "\n",
      "--\n",
      "\n"
     ]
    }
   ],
   "source": [
    "print(article.text)"
   ]
  },
  {
   "cell_type": "code",
   "execution_count": null,
   "id": "higher-savings",
   "metadata": {},
   "outputs": [],
   "source": []
  }
 ],
 "metadata": {
  "kernelspec": {
   "display_name": "Python 3",
   "language": "python",
   "name": "python3"
  },
  "language_info": {
   "codemirror_mode": {
    "name": "ipython",
    "version": 3
   },
   "file_extension": ".py",
   "mimetype": "text/x-python",
   "name": "python",
   "nbconvert_exporter": "python",
   "pygments_lexer": "ipython3",
   "version": "3.7.0"
  }
 },
 "nbformat": 4,
 "nbformat_minor": 5
}
