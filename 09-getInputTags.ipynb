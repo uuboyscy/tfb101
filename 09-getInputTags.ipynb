{
 "cells": [
  {
   "cell_type": "code",
   "execution_count": 1,
   "id": "attempted-defense",
   "metadata": {},
   "outputs": [],
   "source": [
    "import requests\n",
    "from bs4 import BeautifulSoup\n",
    "\n",
    "url = 'https://web.pcc.gov.tw/tps/pss/tender.do?method=goSearch&searchMode=common&searchType=advance&searchTarget=ATM'\n",
    "\n",
    "headers = {\n",
    "    'User-Agent': 'Mozilla/5.0 (Macintosh; Intel Mac OS X 11_2_2) AppleWebKit/537.36 (KHTML, like Gecko) Chrome/89.0.4389.82 Safari/537.36'\n",
    "}\n",
    "\n",
    "res = requests.get(url, headers=headers)\n",
    "soup = BeautifulSoup(res.text, 'html.parser')\n"
   ]
  },
  {
   "cell_type": "code",
   "execution_count": 2,
   "id": "designing-simpson",
   "metadata": {
    "scrolled": true
   },
   "outputs": [
    {
     "data": {
      "text/plain": [
       "[<input name=\"searchTarget\" type=\"hidden\" value=\"ATM\"/>,\n",
       " <input name=\"method\" type=\"hidden\" value=\"search\"/>,\n",
       " <input name=\"searchMethod\" type=\"hidden\" value=\"true\"/>,\n",
       " <input name=\"searchTarget\" type=\"hidden\" value=\"ATM\"/>,\n",
       " <input id=\"orgName\" name=\"orgName\" size=\"20\" type=\"text\"/>,\n",
       " <input id=\"orgId\" name=\"orgId\" size=\"20\" type=\"text\"/>,\n",
       " <input id=\"hid_1\" name=\"hid_1\" type=\"hidden\" value=\"1\"/>,\n",
       " <input id=\"tenderName\" name=\"tenderName\" size=\"20\" type=\"text\"/>,\n",
       " <input id=\"tenderId\" name=\"tenderId\" size=\"20\" type=\"text\"/>,\n",
       " <input id=\"awardAnnounceStartDate\" name=\"awardAnnounceStartDate\" placeholder=\"yyy/MM/dd\" title=\"決標公告開始日期\" value=\"110/03/18\"/>,\n",
       " <input id=\"awardAnnounceEndDate\" name=\"awardAnnounceEndDate\" placeholder=\"yyy/MM/dd\" title=\"決標公告結束日期\" value=\"110/03/18\"/>,\n",
       " <input name=\"proctrgCate\" type=\"hidden\"/>,\n",
       " <input id=\"radProctrgCate1\" name=\"radProctrgCate\" onclick=\"javascript:setProctrgCate('1');\" onkeypress=\"javascript:setProctrgCate('1');\" type=\"radio\" value=\"1\"/>,\n",
       " <input id=\"radProctrgCate2\" name=\"radProctrgCate\" onclick=\"javascript:setProctrgCate('2');\" onkeypress=\"javascript:setProctrgCate('2');\" type=\"radio\" value=\"2\"/>,\n",
       " <input id=\"radProctrgCate3\" name=\"radProctrgCate\" onclick=\"javascript:setProctrgCate('3');\" onkeypress=\"javascript:setProctrgCate('3');\" type=\"radio\" value=\"3\"/>,\n",
       " <input name=\"minBudget\" type=\"hidden\"/>,\n",
       " <input name=\"maxBudget\" type=\"hidden\"/>,\n",
       " <input id=\"_minBudget\" name=\"_minBudget\" type=\"text\"/>,\n",
       " <input id=\"_maxBudget\" name=\"_maxBudget\" type=\"text\"/>,\n",
       " <input id=\"item\" name=\"item\" size=\"20\" type=\"text\"/>,\n",
       " <input id=\"hid_2\" name=\"hid_2\" type=\"hidden\" value=\"1\"/>,\n",
       " <input id=\"gottenVendorName\" name=\"gottenVendorName\" size=\"20\" type=\"text\"/>,\n",
       " <input id=\"gottenVendorId\" name=\"gottenVendorId\" size=\"20\" type=\"text\"/>,\n",
       " <input id=\"hid_3\" name=\"hid_3\" type=\"hidden\" value=\"1\"/>,\n",
       " <input id=\"submitVendorName\" name=\"submitVendorName\" size=\"20\" type=\"text\"/>,\n",
       " <input id=\"submitVendorId\" name=\"submitVendorId\" size=\"20\" type=\"text\"/>,\n",
       " <input class=\"titlefont80\" onclick=\"createCelocation()\" type=\"button\" value=\"查詢履約地點\"/>,\n",
       " <input name=\"location\" type=\"hidden\" value=\"\"/>,\n",
       " <input id=\"execLocationArea\" name=\"execLocationArea\" type=\"hidden\" value=\"\"/>,\n",
       " <input class=\"titlefont80\" onclick=\"popupZipWin()\" style=\"width: 140px\" type=\"button\" value=\"區域選項\"/>,\n",
       " <input name=\"isReConstruct\" type=\"hidden\" value=\"\">\n",
       " <input id=\"radReConstructY\" name=\"radReConstruct\" onclick=\"javascript:setReConstruct('Y');\" onkeypress=\"javascript:setReConstruct('Y');\" type=\"radio\" value=\"Y\"><label for=\"radReConstructY\">是</label>\n",
       " <input id=\"radReConstructN\" name=\"radReConstruct\" onclick=\"javascript:setReConstruct('N');\" onkeypress=\"javascript:setReConstruct('N');\" type=\"radio\" value=\"N\"/><label for=\"radReConstructN\">否</label>\n",
       " </input></input>,\n",
       " <input id=\"radReConstructY\" name=\"radReConstruct\" onclick=\"javascript:setReConstruct('Y');\" onkeypress=\"javascript:setReConstruct('Y');\" type=\"radio\" value=\"Y\"><label for=\"radReConstructY\">是</label>\n",
       " <input id=\"radReConstructN\" name=\"radReConstruct\" onclick=\"javascript:setReConstruct('N');\" onkeypress=\"javascript:setReConstruct('N');\" type=\"radio\" value=\"N\"/><label for=\"radReConstructN\">否</label>\n",
       " </input>,\n",
       " <input id=\"radReConstructN\" name=\"radReConstruct\" onclick=\"javascript:setReConstruct('N');\" onkeypress=\"javascript:setReConstruct('N');\" type=\"radio\" value=\"N\"/>,\n",
       " <input class=\"titlefont80\" id=\"btnQuery\" name=\"btnQuery\" type=\"submit\" value=\"查詢\"/>,\n",
       " <input class=\"titlefont80\" onclick=\"$jq.unblockUI();\" onkeypress=\"$jq.unblockUI();\" type=\"button\" value=\"關閉\"/>]"
      ]
     },
     "execution_count": 2,
     "metadata": {},
     "output_type": "execute_result"
    }
   ],
   "source": [
    "soup.select('input')"
   ]
  },
  {
   "cell_type": "code",
   "execution_count": 3,
   "id": "gross-fifth",
   "metadata": {
    "scrolled": true
   },
   "outputs": [
    {
     "name": "stdout",
     "output_type": "stream",
     "text": [
      "searchTarget\n",
      "method\n",
      "searchMethod\n",
      "searchTarget\n",
      "orgName\n",
      "orgId\n",
      "hid_1\n",
      "tenderName\n",
      "tenderId\n",
      "awardAnnounceStartDate\n",
      "awardAnnounceEndDate\n",
      "proctrgCate\n",
      "radProctrgCate\n",
      "radProctrgCate\n",
      "radProctrgCate\n",
      "minBudget\n",
      "maxBudget\n",
      "_minBudget\n",
      "_maxBudget\n",
      "item\n",
      "hid_2\n",
      "gottenVendorName\n",
      "gottenVendorId\n",
      "hid_3\n",
      "submitVendorName\n",
      "submitVendorId\n"
     ]
    },
    {
     "ename": "KeyError",
     "evalue": "'name'",
     "output_type": "error",
     "traceback": [
      "\u001b[0;31m---------------------------------------------------------------------------\u001b[0m",
      "\u001b[0;31mKeyError\u001b[0m                                  Traceback (most recent call last)",
      "\u001b[0;32m<ipython-input-3-df5ef4f8108b>\u001b[0m in \u001b[0;36m<module>\u001b[0;34m\u001b[0m\n\u001b[1;32m      1\u001b[0m \u001b[0;32mfor\u001b[0m \u001b[0mn\u001b[0m \u001b[0;32min\u001b[0m \u001b[0msoup\u001b[0m\u001b[0;34m.\u001b[0m\u001b[0mselect\u001b[0m\u001b[0;34m(\u001b[0m\u001b[0;34m'input'\u001b[0m\u001b[0;34m)\u001b[0m\u001b[0;34m:\u001b[0m\u001b[0;34m\u001b[0m\u001b[0m\n\u001b[0;32m----> 2\u001b[0;31m     \u001b[0mprint\u001b[0m\u001b[0;34m(\u001b[0m\u001b[0mn\u001b[0m\u001b[0;34m[\u001b[0m\u001b[0;34m'name'\u001b[0m\u001b[0;34m]\u001b[0m\u001b[0;34m)\u001b[0m\u001b[0;34m\u001b[0m\u001b[0m\n\u001b[0m",
      "\u001b[0;32m~/PycharmProjects/tfb101-pyetl/venv/lib/python3.7/site-packages/bs4/element.py\u001b[0m in \u001b[0;36m__getitem__\u001b[0;34m(self, key)\u001b[0m\n\u001b[1;32m   1404\u001b[0m         \"\"\"tag[key] returns the value of the 'key' attribute for the Tag,\n\u001b[1;32m   1405\u001b[0m         and throws an exception if it's not there.\"\"\"\n\u001b[0;32m-> 1406\u001b[0;31m         \u001b[0;32mreturn\u001b[0m \u001b[0mself\u001b[0m\u001b[0;34m.\u001b[0m\u001b[0mattrs\u001b[0m\u001b[0;34m[\u001b[0m\u001b[0mkey\u001b[0m\u001b[0;34m]\u001b[0m\u001b[0;34m\u001b[0m\u001b[0m\n\u001b[0m\u001b[1;32m   1407\u001b[0m \u001b[0;34m\u001b[0m\u001b[0m\n\u001b[1;32m   1408\u001b[0m     \u001b[0;32mdef\u001b[0m \u001b[0m__iter__\u001b[0m\u001b[0;34m(\u001b[0m\u001b[0mself\u001b[0m\u001b[0;34m)\u001b[0m\u001b[0;34m:\u001b[0m\u001b[0;34m\u001b[0m\u001b[0m\n",
      "\u001b[0;31mKeyError\u001b[0m: 'name'"
     ]
    }
   ],
   "source": [
    "for n in soup.select('input'):\n",
    "    print(n['name'])"
   ]
  },
  {
   "cell_type": "code",
   "execution_count": 7,
   "id": "applicable-tuner",
   "metadata": {
    "scrolled": true
   },
   "outputs": [
    {
     "name": "stdout",
     "output_type": "stream",
     "text": [
      "<input name=\"searchTarget\" type=\"hidden\" value=\"ATM\"/>\n",
      "<input name=\"method\" type=\"hidden\" value=\"search\"/>\n",
      "<input name=\"searchMethod\" type=\"hidden\" value=\"true\"/>\n",
      "<input name=\"searchTarget\" type=\"hidden\" value=\"ATM\"/>\n",
      "<input id=\"hid_1\" name=\"hid_1\" type=\"hidden\" value=\"1\"/>\n",
      "<input name=\"proctrgCate\" type=\"hidden\"/>\n",
      "<input name=\"minBudget\" type=\"hidden\"/>\n",
      "<input name=\"maxBudget\" type=\"hidden\"/>\n",
      "<input id=\"hid_2\" name=\"hid_2\" type=\"hidden\" value=\"1\"/>\n",
      "<input id=\"hid_3\" name=\"hid_3\" type=\"hidden\" value=\"1\"/>\n",
      "<input name=\"location\" type=\"hidden\" value=\"\"/>\n",
      "<input id=\"execLocationArea\" name=\"execLocationArea\" type=\"hidden\" value=\"\"/>\n",
      "<input name=\"isReConstruct\" type=\"hidden\" value=\"\">\n",
      "<input id=\"radReConstructY\" name=\"radReConstruct\" onclick=\"javascript:setReConstruct('Y');\" onkeypress=\"javascript:setReConstruct('Y');\" type=\"radio\" value=\"Y\"><label for=\"radReConstructY\">是</label>\n",
      "<input id=\"radReConstructN\" name=\"radReConstruct\" onclick=\"javascript:setReConstruct('N');\" onkeypress=\"javascript:setReConstruct('N');\" type=\"radio\" value=\"N\"/><label for=\"radReConstructN\">否</label>\n",
      "</input></input>\n"
     ]
    }
   ],
   "source": [
    "for n in soup.select('input[type=\"hidden\"]'):\n",
    "    print(n)"
   ]
  },
  {
   "cell_type": "code",
   "execution_count": 6,
   "id": "nonprofit-ecuador",
   "metadata": {},
   "outputs": [
    {
     "data": {
      "text/plain": [
       "{'searchTarget': 'ATM',\n",
       " 'method': 'search',\n",
       " 'searchMethod': 'true',\n",
       " 'hid_1': '1',\n",
       " 'hid_2': '1',\n",
       " 'hid_3': '1',\n",
       " 'location': '',\n",
       " 'execLocationArea': '',\n",
       " 'isReConstruct': ''}"
      ]
     },
     "execution_count": 6,
     "metadata": {},
     "output_type": "execute_result"
    }
   ],
   "source": [
    "data = dict()\n",
    "for n in soup.select('input[type=\"hidden\"]'):\n",
    "    try:\n",
    "        data[n['name']] = n['value']\n",
    "    except:\n",
    "        pass\n",
    "    \n",
    "data"
   ]
  },
  {
   "cell_type": "code",
   "execution_count": null,
   "id": "sonic-village",
   "metadata": {},
   "outputs": [],
   "source": []
  }
 ],
 "metadata": {
  "kernelspec": {
   "display_name": "Python 3",
   "language": "python",
   "name": "python3"
  },
  "language_info": {
   "codemirror_mode": {
    "name": "ipython",
    "version": 3
   },
   "file_extension": ".py",
   "mimetype": "text/x-python",
   "name": "python",
   "nbconvert_exporter": "python",
   "pygments_lexer": "ipython3",
   "version": "3.7.0"
  }
 },
 "nbformat": 4,
 "nbformat_minor": 5
}
